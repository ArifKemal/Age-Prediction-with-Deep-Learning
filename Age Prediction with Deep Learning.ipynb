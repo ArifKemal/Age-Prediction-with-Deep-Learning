{
 "cells": [
  {
   "cell_type": "markdown",
   "id": "fa5be6e9-8b88-411d-a5da-a21230d77cbd",
   "metadata": {},
   "source": [
    "# Age Prediction with Deep Learning"
   ]
  },
  {
   "cell_type": "markdown",
   "id": "a4209c97-ea62-47fb-bfe8-befa23695b87",
   "metadata": {},
   "source": [
    "## Importing Essential Libraries"
   ]
  },
  {
   "cell_type": "code",
   "execution_count": 1,
   "id": "7dc01df0-636e-46f6-897e-5d7c4a79196b",
   "metadata": {},
   "outputs": [],
   "source": [
    "import matplotlib.pyplot as plt\n",
    "from tensorflow.keras.datasets import cifar10\n",
    "import cv2\n",
    "import pandas as pd\n",
    "import os \n",
    "import numpy as np\n",
    "from keras.models import Sequential\n",
    "from keras.layers import Dense, Conv2D, Flatten, Input, MaxPooling2D,Dropout,BatchNormalization,Reshape\n",
    "import warnings\n",
    "warnings.filterwarnings(\"ignore\")\n",
    "from sklearn.model_selection import train_test_split\n",
    "from keras.models import Sequential\n",
    "from keras.layers import Dense, Conv2D, Flatten, Input, MaxPooling2D,Dropout,BatchNormalization,Reshape\n",
    "from sklearn.metrics import confusion_matrix, ConfusionMatrixDisplay\n",
    "import seaborn as sns\n",
    "import matplotlib.pyplot as plt\n",
    "from PIL import Image\n",
    "from sklearn.metrics import accuracy_score\n",
    "import math\n",
    "from tensorflow.keras.models import load_model\n",
    "from sklearn.metrics import r2_score\n",
    "from tensorflow.keras import regularizers"
   ]
  },
  {
   "cell_type": "markdown",
   "id": "48beb09d-78ae-408c-b220-fe9efcdef1dd",
   "metadata": {},
   "source": [
    "## Import Data"
   ]
  },
  {
   "cell_type": "code",
   "execution_count": 2,
   "id": "163343f4-f5a8-435f-ba48-f438e05d9b54",
   "metadata": {},
   "outputs": [],
   "source": [
    "df = pd.read_csv(\"train.csv\")"
   ]
  },
  {
   "cell_type": "markdown",
   "id": "ea3877b1-c9d6-45cb-8457-09822a95b55e",
   "metadata": {},
   "source": [
    "## Data Analysis"
   ]
  },
  {
   "cell_type": "code",
   "execution_count": 3,
   "id": "5b2ef1c0-55ef-4b11-acf2-234ed267bf4e",
   "metadata": {},
   "outputs": [
    {
     "data": {
      "text/plain": [
       "(17999, 3)"
      ]
     },
     "execution_count": 3,
     "metadata": {},
     "output_type": "execute_result"
    }
   ],
   "source": [
    "df.shape"
   ]
  },
  {
   "cell_type": "code",
   "execution_count": 4,
   "id": "ddd788ae-2feb-495d-b6ac-c537b46f9633",
   "metadata": {},
   "outputs": [
    {
     "data": {
      "text/html": [
       "<div>\n",
       "<style scoped>\n",
       "    .dataframe tbody tr th:only-of-type {\n",
       "        vertical-align: middle;\n",
       "    }\n",
       "\n",
       "    .dataframe tbody tr th {\n",
       "        vertical-align: top;\n",
       "    }\n",
       "\n",
       "    .dataframe thead th {\n",
       "        text-align: right;\n",
       "    }\n",
       "</style>\n",
       "<table border=\"1\" class=\"dataframe\">\n",
       "  <thead>\n",
       "    <tr style=\"text-align: right;\">\n",
       "      <th></th>\n",
       "      <th>id</th>\n",
       "      <th>filename</th>\n",
       "      <th>age</th>\n",
       "    </tr>\n",
       "  </thead>\n",
       "  <tbody>\n",
       "    <tr>\n",
       "      <th>0</th>\n",
       "      <td>1</td>\n",
       "      <td>1.jpg</td>\n",
       "      <td>40</td>\n",
       "    </tr>\n",
       "    <tr>\n",
       "      <th>1</th>\n",
       "      <td>2</td>\n",
       "      <td>2.jpg</td>\n",
       "      <td>54</td>\n",
       "    </tr>\n",
       "    <tr>\n",
       "      <th>2</th>\n",
       "      <td>3</td>\n",
       "      <td>3.jpg</td>\n",
       "      <td>51</td>\n",
       "    </tr>\n",
       "    <tr>\n",
       "      <th>3</th>\n",
       "      <td>4</td>\n",
       "      <td>4.jpg</td>\n",
       "      <td>35</td>\n",
       "    </tr>\n",
       "    <tr>\n",
       "      <th>4</th>\n",
       "      <td>5</td>\n",
       "      <td>5.jpg</td>\n",
       "      <td>46</td>\n",
       "    </tr>\n",
       "  </tbody>\n",
       "</table>\n",
       "</div>"
      ],
      "text/plain": [
       "   id filename  age\n",
       "0   1    1.jpg   40\n",
       "1   2    2.jpg   54\n",
       "2   3    3.jpg   51\n",
       "3   4    4.jpg   35\n",
       "4   5    5.jpg   46"
      ]
     },
     "execution_count": 4,
     "metadata": {},
     "output_type": "execute_result"
    }
   ],
   "source": [
    "df.head()"
   ]
  },
  {
   "cell_type": "code",
   "execution_count": 5,
   "id": "973ea3d5-55d2-4b47-9761-da1da9b3a932",
   "metadata": {},
   "outputs": [
    {
     "data": {
      "text/plain": [
       "id          0\n",
       "filename    0\n",
       "age         0\n",
       "dtype: int64"
      ]
     },
     "execution_count": 5,
     "metadata": {},
     "output_type": "execute_result"
    }
   ],
   "source": [
    "df.isnull().sum()"
   ]
  },
  {
   "cell_type": "code",
   "execution_count": 6,
   "id": "998aac42-7c71-4dae-9156-8537d5207bd7",
   "metadata": {},
   "outputs": [],
   "source": [
    "df['filename']=\"applications-of-deep-learning-wustl-spring-2024/faces-age/\"+df['filename']"
   ]
  },
  {
   "cell_type": "code",
   "execution_count": 7,
   "id": "0de9e106-0926-4f9c-80a4-224b5b4fd0a4",
   "metadata": {},
   "outputs": [
    {
     "data": {
      "text/html": [
       "<div>\n",
       "<style scoped>\n",
       "    .dataframe tbody tr th:only-of-type {\n",
       "        vertical-align: middle;\n",
       "    }\n",
       "\n",
       "    .dataframe tbody tr th {\n",
       "        vertical-align: top;\n",
       "    }\n",
       "\n",
       "    .dataframe thead th {\n",
       "        text-align: right;\n",
       "    }\n",
       "</style>\n",
       "<table border=\"1\" class=\"dataframe\">\n",
       "  <thead>\n",
       "    <tr style=\"text-align: right;\">\n",
       "      <th></th>\n",
       "      <th>id</th>\n",
       "      <th>filename</th>\n",
       "      <th>age</th>\n",
       "    </tr>\n",
       "  </thead>\n",
       "  <tbody>\n",
       "    <tr>\n",
       "      <th>0</th>\n",
       "      <td>1</td>\n",
       "      <td>applications-of-deep-learning-wustl-spring-202...</td>\n",
       "      <td>40</td>\n",
       "    </tr>\n",
       "    <tr>\n",
       "      <th>1</th>\n",
       "      <td>2</td>\n",
       "      <td>applications-of-deep-learning-wustl-spring-202...</td>\n",
       "      <td>54</td>\n",
       "    </tr>\n",
       "    <tr>\n",
       "      <th>2</th>\n",
       "      <td>3</td>\n",
       "      <td>applications-of-deep-learning-wustl-spring-202...</td>\n",
       "      <td>51</td>\n",
       "    </tr>\n",
       "    <tr>\n",
       "      <th>3</th>\n",
       "      <td>4</td>\n",
       "      <td>applications-of-deep-learning-wustl-spring-202...</td>\n",
       "      <td>35</td>\n",
       "    </tr>\n",
       "    <tr>\n",
       "      <th>4</th>\n",
       "      <td>5</td>\n",
       "      <td>applications-of-deep-learning-wustl-spring-202...</td>\n",
       "      <td>46</td>\n",
       "    </tr>\n",
       "  </tbody>\n",
       "</table>\n",
       "</div>"
      ],
      "text/plain": [
       "   id                                           filename  age\n",
       "0   1  applications-of-deep-learning-wustl-spring-202...   40\n",
       "1   2  applications-of-deep-learning-wustl-spring-202...   54\n",
       "2   3  applications-of-deep-learning-wustl-spring-202...   51\n",
       "3   4  applications-of-deep-learning-wustl-spring-202...   35\n",
       "4   5  applications-of-deep-learning-wustl-spring-202...   46"
      ]
     },
     "execution_count": 7,
     "metadata": {},
     "output_type": "execute_result"
    }
   ],
   "source": [
    "df.head()"
   ]
  },
  {
   "cell_type": "code",
   "execution_count": 8,
   "id": "2fa9c2a7-ad5f-4ba9-a4e9-4bc50b9be277",
   "metadata": {
    "scrolled": true
   },
   "outputs": [
    {
     "data": {
      "text/plain": [
       "0        applications-of-deep-learning-wustl-spring-202...\n",
       "1        applications-of-deep-learning-wustl-spring-202...\n",
       "2        applications-of-deep-learning-wustl-spring-202...\n",
       "3        applications-of-deep-learning-wustl-spring-202...\n",
       "4        applications-of-deep-learning-wustl-spring-202...\n",
       "                               ...                        \n",
       "17994    applications-of-deep-learning-wustl-spring-202...\n",
       "17995    applications-of-deep-learning-wustl-spring-202...\n",
       "17996    applications-of-deep-learning-wustl-spring-202...\n",
       "17997    applications-of-deep-learning-wustl-spring-202...\n",
       "17998    applications-of-deep-learning-wustl-spring-202...\n",
       "Name: filename, Length: 17999, dtype: object"
      ]
     },
     "execution_count": 8,
     "metadata": {},
     "output_type": "execute_result"
    }
   ],
   "source": [
    "df[\"filename\"]"
   ]
  },
  {
   "cell_type": "markdown",
   "id": "497b3e4d-6b5d-4738-a10d-733e111f9a49",
   "metadata": {},
   "source": [
    "## Image Process"
   ]
  },
  {
   "cell_type": "code",
   "execution_count": 4,
   "id": "f44f714c-db77-4eaa-8008-c7dfd17a4747",
   "metadata": {
    "scrolled": true
   },
   "outputs": [
    {
     "name": "stdout",
     "output_type": "stream",
     "text": [
      "Successfully loaded images: 17999\n"
     ]
    }
   ],
   "source": [
    "import os\n",
    "import cv2\n",
    "import numpy as np\n",
    "import pandas as pd\n",
    "\n",
    "# Load dataframe and image filenames\n",
    "df = pd.read_csv(\"train.csv\")  # Ensure correct CSV file path\n",
    "\n",
    "image_data = []\n",
    "for img_name in df['filename']:\n",
    "    # Construct platform-independent file path\n",
    "    full_path = os.path.join(\"faces-age\", img_name)\n",
    "    \n",
    "    # Read image file\n",
    "    img = cv2.imread(full_path)\n",
    "    \n",
    "    # Handle missing/unreadable files\n",
    "    if img is None:\n",
    "        print(f\"ERROR: {full_path} not found or unreadable!\")\n",
    "        continue\n",
    "    \n",
    "    try:\n",
    "        # Convert color space from BGR to RGB\n",
    "        img = cv2.cvtColor(img, cv2.COLOR_BGR2RGB)\n",
    "        \n",
    "        # Resize and normalize image\n",
    "        img = cv2.resize(img, (128, 128))\n",
    "        img = img / 255.0\n",
    "        \n",
    "        image_data.append(img)\n",
    "        \n",
    "    except Exception as e:\n",
    "        print(f\"ERROR: Processing failed for {full_path}: {str(e)}\")\n",
    "\n",
    "# Convert list to numpy array\n",
    "image_data = np.array(image_data)\n",
    "print(f\"Successfully loaded images: {len(image_data)}\")"
   ]
  },
  {
   "cell_type": "code",
   "execution_count": 10,
   "id": "16c0dde3-a4af-4a33-bdff-fb997355a4b1",
   "metadata": {},
   "outputs": [],
   "source": [
    "y = df[\"age\"]"
   ]
  },
  {
   "cell_type": "code",
   "execution_count": 11,
   "id": "64e6f93a-30f9-4437-a26a-d10cf8030205",
   "metadata": {},
   "outputs": [
    {
     "data": {
      "text/plain": [
       "(17999,)"
      ]
     },
     "execution_count": 11,
     "metadata": {},
     "output_type": "execute_result"
    }
   ],
   "source": [
    "y.shape"
   ]
  },
  {
   "cell_type": "markdown",
   "id": "d14300b7-c0cb-4ebd-91dc-2d7dd1d0fe7c",
   "metadata": {},
   "source": [
    "## Modelling"
   ]
  },
  {
   "cell_type": "code",
   "execution_count": 12,
   "id": "f955f2ae-3c80-4a43-878f-2378db62421e",
   "metadata": {},
   "outputs": [],
   "source": [
    "x_train,x_test,y_train,y_test=train_test_split(x,y,test_size=.2,random_state=42)"
   ]
  },
  {
   "cell_type": "code",
   "execution_count": 13,
   "id": "c74bfdfe-e319-4c65-9d65-24767d2fcde6",
   "metadata": {},
   "outputs": [],
   "source": [
    "model = Sequential()\n",
    "\n",
    "model.add(Input(shape=(128, 128, 3)))\n",
    "\n",
    "model.add(Conv2D(32, kernel_size=(3,3), activation='relu'))\n",
    "model.add(MaxPooling2D(pool_size=(2,2)))\n",
    "\n",
    "model.add(Conv2D(64, kernel_size=(3,3), activation='relu',kernel_regularizer=regularizers.l1_l2(l1=0.01,l2=0.01)))\n",
    "model.add(MaxPooling2D(pool_size=(2,2)))\n",
    "\n",
    "model.add(Conv2D(128, kernel_size=(3,3), activation='relu'))\n",
    "model.add(BatchNormalization())\n",
    "model.add(MaxPooling2D(pool_size=(2,2)))\n",
    "\n",
    "model.add(Conv2D(256, kernel_size=(3,3), activation='relu', padding='same'))\n",
    "model.add(BatchNormalization())\n",
    "model.add(MaxPooling2D(pool_size=(2,2)))\n",
    "\n",
    "model.add(Flatten())\n",
    "\n",
    "model.add(Dense(512, activation='relu'))\n",
    "model.add(Dropout(0.5))  \n",
    "model.add(Dense(256, activation='relu'))\n",
    "model.add(Dense(128, activation='relu'))\n",
    "model.add(Dense(64, activation='relu'))\n",
    "\n",
    "model.add(Dense(1) ) \n",
    "\n",
    "model.compile(optimizer='adam', loss='mse', metrics=['mae', 'mse'])"
   ]
  },
  {
   "cell_type": "code",
   "execution_count": null,
   "id": "fe83ecdb-b82b-474b-91e7-205f668c2411",
   "metadata": {
    "scrolled": true
   },
   "outputs": [
    {
     "name": "stdout",
     "output_type": "stream",
     "text": [
      "Epoch 1/100\n",
      "\u001b[1m  35/1800\u001b[0m \u001b[37m━━━━━━━━━━━━━━━━━━━━\u001b[0m \u001b[1m3:15\u001b[0m 111ms/step - loss: 734.3027 - mae: 22.1034 - mse: 726.3375  "
     ]
    }
   ],
   "source": [
    "history = model.fit(x_train,y_train,validation_data=(x_test,y_test),epochs=100,batch_size=8,verbose=1)"
   ]
  },
  {
   "cell_type": "code",
   "execution_count": null,
   "id": "1e18711c-b2c1-4342-b440-377d4be6cb7f",
   "metadata": {},
   "outputs": [],
   "source": [
    "model.save(\"model.h5\")"
   ]
  }
 ],
 "metadata": {
  "kernelspec": {
   "display_name": "Python 3 (312)",
   "language": "python",
   "name": "python312"
  },
  "language_info": {
   "codemirror_mode": {
    "name": "ipython",
    "version": 3
   },
   "file_extension": ".py",
   "mimetype": "text/x-python",
   "name": "python",
   "nbconvert_exporter": "python",
   "pygments_lexer": "ipython3",
   "version": "3.12.4"
  }
 },
 "nbformat": 4,
 "nbformat_minor": 5
}
